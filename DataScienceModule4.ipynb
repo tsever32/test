{
 "cells": [
  {
   "cell_type": "markdown",
   "id": "b9d36b60-a5e1-423c-91fc-485eb2497cef",
   "metadata": {},
   "source": [
    "# Final Submission"
   ]
  },
  {
   "cell_type": "markdown",
   "id": "cdf4d855-119b-4859-92fe-abe56b51b81d",
   "metadata": {},
   "source": [
    "*Introduction:* This is my final submission for this module."
   ]
  },
  {
   "cell_type": "markdown",
   "id": "c56f6d93-42c7-4c37-8eda-91a71e86395d",
   "metadata": {},
   "source": [
    "**Data science languages:** These are some commonly used data science languages.\n",
    "1. Python\n",
    "2. R\n",
    "3. Scala\n",
    "4. SQL\n",
    "5. Matlab\n",
    "6. Stata"
   ]
  },
  {
   "cell_type": "markdown",
   "id": "3783d25a-887e-4cdc-a4b7-8a53a1941300",
   "metadata": {},
   "source": [
    "**Data science libraries:** These are some commonly used data science libraries. Libraries can be used for a variety of tasks.\n",
    "1. scientific computing libraries (pandas)\n",
    "2. visualization libraries (matplotlib)\n",
    "3. machine learning and deep learning libraries (scikit learn)\n",
    "4. TensorFlow"
   ]
  },
  {
   "cell_type": "markdown",
   "id": "d710f8f8-c24b-4519-9059-78b1c8a514e5",
   "metadata": {},
   "source": [
    "**Data science tools:** The below table contains some data science tools. <br>\n",
    "|Tool|Use|\n",
    "|----|---|\n",
    "|MySQL|Data Management|\n",
    "|Hue|Data Visualization|\n",
    "|Jupyter|Development Environment|\n",
    "|R Studio|Development Environment|\n",
    "\n",
    "*The full range of categories of data science tools are data asset management, data visualization, development environments, data integration, model building, model deployment, and code management*"
   ]
  },
  {
   "cell_type": "markdown",
   "id": "337199d1-396e-420f-a0c9-d32b06f0c626",
   "metadata": {},
   "source": [
    "Notebooks can run arithmetic expressions. For example writing 2+2 will return 4 as the system runs the math equation. There are examples below."
   ]
  },
  {
   "cell_type": "code",
   "execution_count": 6,
   "id": "adc840cd-7f71-4de8-8613-00fffa470295",
   "metadata": {},
   "outputs": [
    {
     "name": "stdout",
     "output_type": "stream",
     "text": [
      "x= 4\n",
      "y= 6\n"
     ]
    }
   ],
   "source": [
    "x = 2+2\n",
    "y = 3*2\n",
    "print('x=',x)\n",
    "print('y=',y)"
   ]
  },
  {
   "cell_type": "code",
   "execution_count": 7,
   "id": "8ed98a6b-eb6e-41a5-8fe0-d43bba415758",
   "metadata": {},
   "outputs": [
    {
     "name": "stdout",
     "output_type": "stream",
     "text": [
      "4.0\n"
     ]
    }
   ],
   "source": [
    "Minutes = 240\n",
    "Hours = Minutes/60\n",
    "print(Hours)"
   ]
  },
  {
   "cell_type": "markdown",
   "id": "250b49a9-36ae-4093-8d02-ea451d2e3cb2",
   "metadata": {},
   "source": [
    "Objectives\n",
    "- learn data science\n",
    "- find an interesting industry to work in\n",
    "- grow my skill set"
   ]
  },
  {
   "cell_type": "code",
   "execution_count": null,
   "id": "3907e37f-172a-4f64-9613-5267a51d50e2",
   "metadata": {},
   "outputs": [],
   "source": []
  }
 ],
 "metadata": {
  "kernelspec": {
   "display_name": "Python",
   "language": "python",
   "name": "conda-env-python-py"
  },
  "language_info": {
   "codemirror_mode": {
    "name": "ipython",
    "version": 3
   },
   "file_extension": ".py",
   "mimetype": "text/x-python",
   "name": "python",
   "nbconvert_exporter": "python",
   "pygments_lexer": "ipython3",
   "version": "3.7.12"
  }
 },
 "nbformat": 4,
 "nbformat_minor": 5
}
