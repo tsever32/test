{
 "cells": [
  {
   "cell_type": "markdown",
   "id": "798f3ba7-fdba-41fe-b496-7e908170f001",
   "metadata": {},
   "source": [
    "# Final Submission"
   ]
  },
  {
   "cell_type": "markdown",
   "id": "7cf22e3f-f175-459f-bd5e-b747f08f3ada",
   "metadata": {},
   "source": [
    "*Introduction:* This is my final submission for this module."
   ]
  },
  {
   "cell_type": "markdown",
   "id": "a19b382a-a2de-48d7-b006-796b474b767c",
   "metadata": {},
   "source": [
    "**Data science languages**\n",
    "- Python\n",
    "- R\n",
    "- Scala\n",
    "- SQL\n",
    "- Matlab\n",
    "- Stata"
   ]
  },
  {
   "cell_type": "markdown",
   "id": "b62dd085-5f1b-4c89-a186-a037691e378b",
   "metadata": {},
   "source": [
    "**Data science libraries**\n",
    "- scientific computing libraries (pandas)\n",
    "- visualization libraries (matplotlib)\n",
    "- machine learning and deep learning libraries (scikit learn)"
   ]
  },
  {
   "cell_type": "markdown",
   "id": "e0457be4-f8d1-4538-9cc3-915ed7d54cd8",
   "metadata": {},
   "source": [
    "**Data science tools**\n",
    "|Tool|Use|\n",
    "|----|---|\n",
    "|MySQL|Data Management|\n",
    "|Hue|Data Visualization|\n",
    "|Jupyter|Development Environment|\n",
    "|R Studio|Development Environment|\n",
    "\n",
    "*The full range of categories of data science tools are data asset management, data visualization, development environments, data integration, model building, model deployment, and code management*"
   ]
  },
  {
   "cell_type": "markdown",
   "id": "5d5fcbb9-7190-4b1e-88cd-ff896f5932e6",
   "metadata": {},
   "source": [
    "Notebooks can run arithmetic expressions. For example writing 2+2 will return 4 as the system runs the math equation. There are examples below."
   ]
  },
  {
   "cell_type": "code",
   "execution_count": 2,
   "id": "10258030-18cb-4d9e-a112-ba22746c4955",
   "metadata": {},
   "outputs": [
    {
     "data": {
      "text/plain": [
       "4"
      ]
     },
     "execution_count": 2,
     "metadata": {},
     "output_type": "execute_result"
    }
   ],
   "source": [
    "2+2"
   ]
  },
  {
   "cell_type": "code",
   "execution_count": 3,
   "id": "2fdfbb38-3bfb-4c06-b15a-2cec2db9016b",
   "metadata": {},
   "outputs": [
    {
     "data": {
      "text/plain": [
       "6"
      ]
     },
     "execution_count": 3,
     "metadata": {},
     "output_type": "execute_result"
    }
   ],
   "source": [
    "2*3"
   ]
  },
  {
   "cell_type": "code",
   "execution_count": 9,
   "id": "591d905c-81ed-4b07-9a05-67388532d210",
   "metadata": {},
   "outputs": [
    {
     "name": "stdout",
     "output_type": "stream",
     "text": [
      "4.0\n"
     ]
    }
   ],
   "source": [
    "Minutes = 240\n",
    "Hours = Minutes/60\n",
    "print(Hours)"
   ]
  },
  {
   "cell_type": "code",
   "execution_count": null,
   "id": "7d8fa8a9-9d4a-42a3-9c8c-64e2c3f40009",
   "metadata": {},
   "outputs": [],
   "source": []
  }
 ],
 "metadata": {
  "kernelspec": {
   "display_name": "Python",
   "language": "python",
   "name": "conda-env-python-py"
  },
  "language_info": {
   "codemirror_mode": {
    "name": "ipython",
    "version": 3
   },
   "file_extension": ".py",
   "mimetype": "text/x-python",
   "name": "python",
   "nbconvert_exporter": "python",
   "pygments_lexer": "ipython3",
   "version": "3.7.12"
  }
 },
 "nbformat": 4,
 "nbformat_minor": 5
}
